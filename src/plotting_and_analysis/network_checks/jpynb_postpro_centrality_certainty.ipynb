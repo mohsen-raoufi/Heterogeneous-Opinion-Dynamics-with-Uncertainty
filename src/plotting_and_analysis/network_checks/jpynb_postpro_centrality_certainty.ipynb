{
 "cells": [
  {
   "cell_type": "code",
   "execution_count": 1,
   "metadata": {},
   "outputs": [],
   "source": [
    "%matplotlib inline\n",
    "import os\n",
    "import matplotlib.pyplot as plt\n",
    "import numpy as np\n",
    "import sys\n",
    "import pickle\n",
    "import yaml\n",
    "import dcargs\n",
    "import pandas as pd\n",
    "\n",
    "import seaborn as sns\n",
    "\n",
    "sys.path.append(\"..\") \n",
    "\n",
    "from experiment import ExperimentParameters\n",
    "import glob\n",
    "from tqdm import tqdm\n",
    "from yaml.loader import SafeLoader\n",
    "\n",
    "from importlib import reload\n",
    "\n",
    "import postpro_centrality_certainty as postpro\n",
    "reload(postpro)\n",
    "\n",
    "path = \"results/N100_2023-08-18-17-16-12_network_search_Naive_centralized_random_fixed_mdeg/results/\"\n",
    "sys.path.append(path)\n"
   ]
  },
  {
   "cell_type": "code",
   "execution_count": 2,
   "metadata": {},
   "outputs": [],
   "source": [
    "from multiprocessing import Pool\n",
    "\n",
    "def parse_experiments(base_file_path):\n",
    "    pathes = glob.glob(os.path.join(base_file_path, \"*\"))\n",
    "    pool = Pool(10)\n",
    "    dataframes = pool.imap(postpro.post_pro_network_centrality_certainty, tqdm(pathes))\n",
    "    return pd.concat(dataframes, ignore_index=True)"
   ]
  },
  {
   "cell_type": "code",
   "execution_count": 3,
   "metadata": {},
   "outputs": [],
   "source": [
    "df = parse_experiments(path)\n",
    "df.to_pickle(path[:-8] + \"df.pkl\")"
   ]
  },
  {
   "cell_type": "code",
   "execution_count": 4,
   "metadata": {},
   "outputs": [],
   "source": [
    "path[:-8]"
   ]
  },
  {
   "cell_type": "code",
   "execution_count": 2,
   "metadata": {},
   "outputs": [],
   "source": [
    "# df = pd.read_pickle(path + \"df.pkl\")\n",
    "df = pd.read_pickle(path[:-8] + \"df.pkl\")"
   ]
  },
  {
   "cell_type": "code",
   "execution_count": 29,
   "metadata": {},
   "outputs": [],
   "source": [
    "# print(df)\n",
    "# plt.plot(df.sign_dot_prod_avg)\n",
    "# plt.plot(df.sign_dot_prod_central,'r')\n",
    "\n",
    "\n",
    "\n",
    "plt.plot(df.diff_z_tf_avg)\n",
    "plt.plot(df.diff_z_tf_central_node,'r')"
   ]
  },
  {
   "cell_type": "code",
   "execution_count": null,
   "metadata": {},
   "outputs": [],
   "source": [
    "\n",
    "\n",
    "# plot jitter with swarmplot for both central node and average on same plot\n",
    "sns.swarmplot(data=df[['diff_z_tf_central_node','diff_z_tf_avg']])\n",
    "\n",
    "# sns.swarmplot(data=df[['sign_dot_prod_central','sign_dot_prod_avg']])\n",
    "\n",
    "\n"
   ]
  },
  {
   "cell_type": "code",
   "execution_count": 6,
   "metadata": {},
   "outputs": [],
   "source": [
    "# sns.stripplot(data=df[['diff_z_tf_central_node','diff_z_tf_avg']],alpha=0.1)\n",
    "sns.stripplot(data=df[['sign_dot_prod_central','sign_dot_prod_avg']],alpha=0.1)"
   ]
  },
  {
   "cell_type": "code",
   "execution_count": 7,
   "metadata": {},
  "outputs": [],
   "source": [
    "sns.displot(data=df[['diff_z_tf_central_node','diff_z_tf_avg']])\n",
    "# sns.displot(data=df[['sign_dot_prod_central','sign_dot_prod_avg']])"
   ]
  },
  {
   "cell_type": "code",
   "execution_count": 28,
   "metadata": {},
   "outputs": [],
   "source": [
    "# sns.stripplot(df['sign_dot_prod_central']-df['sign_dot_prod_avg'])\n",
    "\n",
    "df['diff_diff'] = df['diff_z_tf_central_node']-df['diff_z_tf_avg']\n",
    "df['diff_sign_dot_prod'] = df['sign_dot_prod_central']-df['sign_dot_prod_avg']\n",
    "\n",
    "\n",
    "# sns.stripplot(data= df, x=\"diff_diff\",hue='Netw_std_eigVec')"
   ]
  },
  {
   "cell_type": "code",
   "execution_count": 47,
   "metadata": {},
   "outputs": [],
   "source": [
    "# sns.scatterplot(data= df, y=\"diff_diff\",x='Netw_std_eigVec',alpha=0.005)\n",
    "# sns.scatterplot(data= df, y=\"diff_diff\",x='Netw_std_eigVal',alpha=0.005)\n",
    "# ax = sns.stripplot(data= df, y=\"diff_diff\",x='weight_own_belief',alpha=0.005,hue='scalar_param1', hue_norm=(0, 0.3))\n",
    "ax = sns.stripplot(data= df, y=\"diff_diff\",x='scalar_param1',alpha=0.005)\n",
    "# sns.boxplot(data= df, y=\"diff_diff\",x='weight_own_belief')\n",
    "\n",
    "# change the format of xlabels to be not more than 2 decimal points\n",
    "ax.set_xticklabels(['{:.2f}'.format(x) for x in ax.get_xticks()]);"
   ]
  },
  {
   "cell_type": "code",
   "execution_count": 42,
   "metadata": {},
   "outputs": [],
   "source": [
    "df.weight_own_belief.unique()"
   ]
  },
  {
   "cell_type": "code",
   "execution_count": 33,
   "metadata": {},
   "outputs": [],
   "source": [
    "# make the average of the diff_diff for specific weight_own_belief=0.5\n",
    "w_o_b_uniq = df['weight_own_belief'].unique()\n",
    "w_o_b_uniq.sort()\n",
    "print(w_o_b_uniq)\n",
    "df[df['weight_own_belief']==w_o_b_uniq[6]]['diff_sign_dot_prod'].mean()"
   ]
  },
  {
   "cell_type": "code",
   "execution_count": 13,
   "metadata": {},
   "outputs": [],
   "source": [
    "sns.scatterplot(data= df, x=\"diff_diff\",y='scalar_param1',alpha=0.005)\n",
    "# sns.scatterplot(data= df, x=\"scalar_param1\", y='Netw_std_degree', alpha=0.005)"
   ]
  },
  {
   "cell_type": "code",
   "execution_count": 8,
   "metadata": {},
   "outputs": [],
   "source": [
    "# plot a heatmap of the diff diff for the x-axis of weight_own_belief and y-axis of scalar_param1\n",
    "sns.heatmap(df.pivot('scalar_param1','weight_own_belief','diff_diff'))"
   ]
  },
  {
   "cell_type": "code",
   "execution_count": 29,
   "metadata": {},
   "outputs": [],
   "source": [
    "x = np.array([np.ones(99),99]);\n",
    "# print(x)\n",
    "x.std()"
   ]
  },
  {
   "cell_type": "code",
   "execution_count": 8,
   "metadata": {},
  "outputs": [],
   "source": [
    "# np.mean(df['sign_dot_prod_central']-df['sign_dot_prod_avg'])\n",
    "np.mean(df['diff_z_tf_central_node']-df['diff_z_tf_avg'])\n"
   ]
  }
 ],
 "metadata": {
  "kernelspec": {
   "display_name": "domip",
   "language": "python",
   "name": "python3"
  },
  "language_info": {
   "codemirror_mode": {
    "name": "ipython",
    "version": 3
   },
   "file_extension": ".py",
   "mimetype": "text/x-python",
   "name": "python",
   "nbconvert_exporter": "python",
   "pygments_lexer": "ipython3",
   "version": "3.8.12"
  },
  "orig_nbformat": 4,
  "vscode": {
   "interpreter": {
    "hash": "d5795e6c0ff833bb3ab4f7e7e3eae67d009f557ff55a7b0dec67adb4ab072af9"
   }
  }
 },
 "nbformat": 4,
 "nbformat_minor": 2
}
