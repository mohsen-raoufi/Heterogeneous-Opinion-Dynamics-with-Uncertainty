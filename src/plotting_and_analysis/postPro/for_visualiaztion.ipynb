{
 "cells": [
  {
   "cell_type": "code",
   "execution_count": 1,
   "metadata": {
    "id": "_SPAeSFX5wWQ",
    "ExecuteTime": {
     "end_time": "2023-07-11T13:51:26.465951425Z",
     "start_time": "2023-07-11T13:51:25.813823215Z"
    }
   },
   "outputs": [],
   "source": [
    "%matplotlib inline\n",
    "import os\n",
    "import matplotlib.pyplot as plt\n",
    "import numpy as np\n",
    "import sys\n",
    "import pickle\n",
    "import yaml\n",
    "# import dcargs\n",
    "import pandas as pd\n",
    "import glob\n",
    "from tqdm import tqdm\n",
    "import matplotlib as mpl\n",
    "\n",
    "# Setting default colormap settings\n",
    "from palettable.scientific.diverging import Berlin_3\n",
    "from palettable.lightbartlein.diverging import BlueOrange10_2, BlueOrange12_2, BlueOrangeRed_2\n",
    "from palettable.matplotlib import Viridis_3\n",
    "CMap = Viridis_3.get_mpl_colormap()\n",
    "\n",
    "def get_colorMaps(nIds):\n",
    "    weights = np.arange(0, nIds)\n",
    "\n",
    "    norm = mpl.colors.Normalize(vmin=0, vmax=nIds)\n",
    "    cmap = mpl.cm.ScalarMappable(norm=norm, cmap=CMap)\n",
    "\n",
    "    return cmap\n",
   ]
  },
  {
   "cell_type": "markdown",
   "metadata": {},
   "source": [
    "Load Bayes DataFrame"
   ]
  },
  {
   "cell_type": "code",
   "execution_count": 2,
   "metadata": {
    "ExecuteTime": {
     "end_time": "2023-07-11T13:51:26.520208916Z",
     "start_time": "2023-07-11T13:51:26.453283185Z"
    }
   },
   "source": [
    "path = \"results\"\n",
    "sys.path.append(path)\n",
    "\n",
    "# experiment_name = \"2022-12-02-15-52-46_test_grid_search_Bayes\"\n",
    "# experiment_name = \"2022-11-25-02-21-50_test_grid_search_Bayes\"\n",
    "# experiment_name = \"2022-10-29-15-36-50_test_grid_search_Bayes\"\n",
    "experiment_name = \"N100_2023-04-18-11-16-30_test_grid_search_BayesCI_centralized_random\"\n",
    "\n",
    "\n",
    "experiment_folder_path = path + \"/\" + experiment_name \n",
    "\n",
    "dataFrame_path = path + \"/\" + experiment_name + \"/results__df_withNet_overTime_updatedEigs.pickle\"\n",
    "\n",
    "with open(dataFrame_path, \"rb\") as f:\n",
    "    df_bayes = pickle.load(f)"
   ]
  },
  {
   "cell_type": "code",
   "execution_count": null,
   "metadata": {
    "collapsed": false,
    "ExecuteTime": {
     "start_time": "2023-07-11T13:51:26.518634167Z"
    }
   },
   "outputs": [],
   "source": [
    "# experiment_name_naive = \"N25_2022-12-27-19-04-42_test_grid_search_Naive\"\n",
    "# experiment_name_naive = \"N50_2022-12-23-17-32-03_test_grid_search_Naive\"\n",
    "experiment_name_naive = \"N100_2022-12-23-17-36-29_test_grid_search_Naive\"\n",
    "# experiment_name_naive = \"N200_2022-12-23-17-35-36_test_grid_search_Naive\"\n",
    "\n",
    "experiment_folder_path_naive = path + \"/\" + experiment_name_naive\n",
    "\n",
    "dataFrame_path_naive = path + \"/\" + experiment_name_naive + \"__df_withNet_updatedEigs.pickle\"\n",
    "\n",
    "with open(dataFrame_path_naive, \"rb\") as f:\n",
    "    df_naive = pickle.load(f)"
   ]
  },
  {
   "cell_type": "code",
   "execution_count": null,
   "metadata": {},
   "outputs": [],
   "source": [
    "eigs = df_bayes.loc[20000,'Netw_eigVals_vs_time']\n",
    "plt.plot(np.sort(eigs))"
   ]
  },
  {
   "cell_type": "markdown",
   "metadata": {},
   "source": [
    "Filter the Bayes DF"
   ]
  },
  {
   "cell_type": "code",
   "execution_count": null,
   "metadata": {},
   "outputs": [],
   "source": [
    "# mmu = 0.1\n",
    "df_bayes_filtered = df_bayes #df[df['mean agent measurement noise']==mmu]\n",
    "# df_bayes_filtered = df[df['mean agent measurement noise']==mmu]\n",
    "# time_index = 9\n",
    "# df_bayes_filtered = df_bayes_filtered[df_bayes_filtered['Timestep']==time_index]\n",
    "# n_agents = 25#32\n",
    "# df_bayes_filtered = df_bayes_filtered[df_bayes_filtered['Number_of_Agents']==n_agents]\n",
    "range_smallest = df_bayes_filtered['range_agent_measurement_noise'].min()\n",
    "df_bayes_filtered = df_bayes_filtered[df_bayes_filtered['range_agent_measurement_noise']==range_smallest]\n",
    "df_bayes_filtered = df_bayes_filtered[df_bayes_filtered['std_environment_noise']==df_bayes_filtered['mean_agent_measurement_noise']+range_smallest*0.5]\n"
   ]
  },
  {
   "cell_type": "markdown",
   "metadata": {},
   "source": [
    "Filter the Naive DF"
   ]
  },
  {
   "cell_type": "code",
   "execution_count": null,
   "metadata": {},
   "outputs": [],
   "source": [
    "# mmu = 0.1\n",
    "df_naive_filtered = df_naive #df[df['mean agent measurement noise']==mmu]\n",
    "# df_filtered = df[df['mean agent measurement noise']==mmu]\n",
    "time_index = 9\n",
    "df_naive_filtered = df_naive_filtered[df_naive_filtered['Timestep']==time_index]\n",
    "# df_naive_filtered = df_naive_filtered[df_naive_filtered['Number_of_Agents']==n_agents]\n",
    "# df_naive_filtered = df_naive_filtered[df_naive_filtered['std environment noise']==df_naive_filtered['mean agent measurement noise']+range_smallest*0.5]"
   ]
  },
  {
   "cell_type": "code",
   "execution_count": null,
   "metadata": {},
   "outputs": [],
   "source": [
    "print(df_naive_filtered[\"Collective_Mean\"].max())\n",
    "fig = plt.figure(1,figsize=(14,10))\n",
    "fig.set_facecolor('w')\n",
    "\n",
    "ax1 = plt.subplot(2,3,1); ax1.set_title(\"Trueness Error\")\n",
    "df_bayes_filtered.plot.hexbin(x=\"std_environment_noise\", y=\"scalar_param1\", C=\"Trueness_Error\", reduce_C_function=np.mean, gridsize=15, ax=ax1)\n",
    "\n",
    "ax5 = plt.subplot(2,3,2); ax5.set_title(\"Precision Error\")\n",
    "df_bayes_filtered.plot.hexbin(x=\"std_environment_noise\",    y=\"scalar_param1\", C=\"Precision_Error\", reduce_C_function=np.mean, gridsize=15, ax=ax5)\n",
    "\n",
    "ax8 = plt.subplot(2,3,3); ax8.set_title(\"Accuracy Error\")\n",
    "df_bayes_filtered.plot.hexbin(x=\"std_environment_noise\",    y=\"scalar_param1\", C=\"Accuracy_Error\", reduce_C_function=np.mean, gridsize=15, ax=ax8)\n",
    "\n",
    "\n",
    "ax1 = plt.subplot(2,3,4); ax1.set_title(\"Trueness Error\")\n",
    "df_naive_filtered.plot.hexbin(x=\"std_environment_noise\", y=\"scalar_param1\", C=\"Trueness_Error\", reduce_C_function=np.mean, gridsize=15, ax=ax1)\n",
    "\n",
    "ax5 = plt.subplot(2,3,5); ax5.set_title(\"Precision Error\")\n",
    "df_naive_filtered.plot.hexbin(x=\"std_environment_noise\",    y=\"scalar_param1\", C=\"Precision_Error\", reduce_C_function=np.mean, gridsize=15, ax=ax5)\n",
    "\n",
    "ax8 = plt.subplot(2,3,6); ax8.set_title(\"Accuracy Error\")\n",
    "df_naive_filtered.plot.hexbin(x=\"std_environment_noise\",    y=\"scalar_param1\", C=\"Accuracy_Error\", reduce_C_function=np.mean, gridsize=15, ax=ax8)"
   ]
  },
  {
   "cell_type": "markdown",
   "metadata": {},
   "source": [
    "Take a specifc instance of dataframe by defining scalar param 1, std env noise, mean agent noise, num agents"
   ]
  },
  {
   "cell_type": "code",
   "execution_count": null,
   "metadata": {},
   "outputs": [],
   "source": [
    "# val_to_plot_bayes = df_bayes['Trueness Error'].mean()\n",
    "scalar_param_vals = np.unique(df_bayes[\"scalar_param1\"])\n",
    "# weight_own_belief_vals = np.unique(df_naive.weight_own_belief)\n",
    "\n",
    "plt.rc('font', size=14)\n",
    "\n",
    "fig, axs_total = plt.subplots(3, 3)\n",
    "fig.set_size_inches(9,9)\n",
    "str_to_plot_options = [\"Accuracy\", \"Precision\", \"Trueness\"]\n",
    "# str_to_plot = \"Accuracy\" # \"Precision\" # \"Trueness\" #\n",
    "# str_to_plot = \"Precision\" # \"Trueness\" #  \n",
    "# str_to_plot = \"Trueness\" #  \n",
    "# scalar_param_to_check = scalar_param_vals[19]#1.0\n",
    "for i, str_to_plot in enumerate(str_to_plot_options):\n",
    "    axs = axs_total[:, i]\n",
    "    for scalar_param_to_check in scalar_param_vals:#[10:11]:\n",
    "        std_environment_noise_to_check = np.unique(df_bayes[\"std_environment_noise\"])[-1] # 1.0#0.0001\n",
    "        df_bayes_filtered = df_bayes\n",
    "        df_bayes_filtered = df_bayes_filtered[df_bayes_filtered[\"scalar_param1\"]==scalar_param_to_check]\n",
    "        df_bayes_filtered = df_bayes_filtered[df_bayes_filtered[\"std_environment_noise\"]==std_environment_noise_to_check]# and\n",
    "        # df_bayes_filtered = df_bayes_filtered[df_bayes_filtered[\"mean agent measurement noise\"]==std_environment_noise_to_check]\n",
    "        # df_bayes_filtered = df_bayes_filtered[df_bayes_filtered[\"Number_of_Agents\"]==num_agents_to_check]\n",
    "\n",
    "        # df_naive_filtered = df_naive\n",
    "        # df_naive_filtered = df_naive_filtered[df_naive_filtered[\"scalar_param1\"]==scalar_param_to_check]\n",
    "        # df_naive_filtered = df_naive_filtered[df_naive_filtered[\"std_environment_noise\"]==std_environment_noise_to_check]# and\n",
    "        # df_naive_filtered = df_naive_filtered[df_naive_filtered[\"mean_agent_measurement_noise\"]==std_environment_noise_to_check]\n",
    "        # df_naive_filtered = df_naive_filtered[df_naive_filtered[\"Number_of_Agents\"]==num_agents_to_check]\n",
    "        # df_naive_filtered = df_naive_filtered[df_naive_filtered[\"weight_own_belief\"]==weight_own_belief_vals[0]]\n",
    "\n",
    "        if(str_to_plot==\"Trueness\"):\n",
    "            axs[0].plot(df_bayes_filtered.groupby(\"Timestep\")[\"Trueness_Error\"].mean(),color=CMap(scalar_param_to_check),label=\"E_T (B)\")\n",
    "            # axs[1].plot(df_naive_filtered.groupby(\"/Timestep\")[\"Trueness_Error\"].mean(),color=CMap(scalar_param_to_check),label=\"E_T (N)\")\n",
    "            # difference = df_bayes_filtered.groupby(\"Timestep\")[\"Trueness_Error\"].mean()-df_naive_filtered.groupby(\"Timestep\")[\"Trueness_Error\"].mean()\n",
    "            # axs[2].plot(difference.to_numpy(),color=CMap(scalar_param_to_check),label=\"E_T (B-N)\")\n",
    "\n",
    "        elif(str_to_plot==\"Precision\"):\n",
    "            axs[0].plot(df_bayes_filtered.groupby(\"Timestep\")[\"Precision_Error\"].mean(),color=CMap(scalar_param_to_check),label=\"E_P (B)\")\n",
    "            # axs[1].plot(df_naive_filtered.groupby(\"Timestep\")[\"Precision_Error\"].mean(),color=CMap(scalar_param_to_check),label=\"E_P (N)\") #,color=\"b\"\n",
    "            # difference = df_bayes_filtered.groupby(\"Timestep\")[\"Precision_Error\"].mean()-df_naive_filtered.groupby(\"Timestep\")[\"Precision_Error\"].mean()\n",
    "            # axs[2].plot(difference.to_numpy(),color=CMap(scalar_param_to_check),label=\"E_P (B-N)\")\n",
    "\n",
    "        elif(str_to_plot==\"Accuracy\"):\n",
    "            axs[0].plot(df_bayes_filtered.groupby(\"Timestep\")[\"Accuracy_Error\"].mean(),color=CMap(scalar_param_to_check),label=\"E_A (B)\")\n",
    "            # axs[1].plot(df_naive_filtered.groupby(\"Timestep\")[\"Accuracy_Error\"].mean(),color=CMap(scalar_param_to_check),label=\"E_A (N)\") #,color=\"b\"\n",
    "            # difference = df_bayes_filtered.groupby(\"Timestep\")[\"Accuracy_Error\"].mean()-df_naive_filtered.groupby(\"Timestep\")[\"Accuracy_Error\"].mean()\n",
    "            # axs[2].plot(difference.to_numpy(),color=CMap(scalar_param_to_check),label=\"E_A (B-N)\")\n",
    "\n",
    "\n",
    "\n",
    "    if(str_to_plot==\"Trueness\"):\n",
    "        axs[0].set_ylabel(\"$E_T$ for Bayes\")\n",
    "        axs[1].set_ylabel(\"$E_T$ for Naiive\")\n",
    "        axs[2].set_ylabel(\"$E_T$ (B-N)\")\n",
    "\n",
    "    elif(str_to_plot==\"Precision\"):\n",
    "        axs[0].set_ylabel(\"$E_P$ for Bayes\")\n",
    "        axs[1].set_ylabel(\"$E_P$ for Naiive\")\n",
    "        axs[2].set_ylabel(\"$E_P$ (B-N)\")\n",
    "\n",
    "    elif(str_to_plot==\"Accuracy\"):\n",
    "        axs[0].set_ylabel(\"$E_A$ for Bayes\")\n",
    "        axs[1].set_ylabel(\"$E_A$ for Naiive\")\n",
    "        axs[2].set_ylabel(\"$E_A$ (B-N)\")\n",
    "\n",
    "    axs[1].sharey(axs[0])\n",
    "    axs[2].set_xlabel(\"Time Step\")\n",
    "\n",
    "    axs[0].set_title(str_to_plot + \" Error\")\n",
    "\n",
    "    # axs[0].set_yscale('log')\n",
    "    # axs[1].set_yscale('log')\n",
    "\n",
    "fig.set_facecolor(\"w\")\n",
    "fig.savefig(path + str_to_plot+\"_logy.png\")\n"
   ]
  },
  {
   "cell_type": "code",
   "execution_count": null,
   "metadata": {
    "collapsed": false
   },
   "outputs": [],
   "source": [
    "df_bayes[df_bayes[\"Timestep\"]==9].groupby(\"scalar_param1\")[\"Trueness_Error\"].mean().plot(color='b')\n",
    "# df_naive[df_naive[\"Timestep\"]==9].groupby(\"scalar_param1\")[\"Trueness_Error\"].mean().plot(color='r')\n",
    "\n",
    "plt.show()\n",
    "\n",
    "df_bayes[df_bayes[\"Timestep\"] == 9].groupby(\"scalar_param1\")[\"Precision_Error\"].mean().plot(color='b')\n",
    "# df_naive[df_naive[\"Timestep\"] == 9].groupby(\"scalar_param1\")[\"Precision_Error\"].mean().plot(color='r')\n",
    "\n",
    "plt.show()\n",
    "\n",
    "df_bayes[df_bayes[\"Timestep\"] == 9].groupby(\"scalar_param1\")[\"Netw_num_of_Edges\"].mean().plot(color='b')\n",
    "# df_naive[df_naive[\"Timestep\"] == 9].groupby(\"scalar_param1\")[\"Netw_num_of_Edges\"].mean().plot(color='r')"
   ]
  },
  {
   "cell_type": "code",
   "execution_count": null,
   "metadata": {
    "collapsed": false
   },
   "outputs": [],
   "source": [
    "df_bayes"
   ]
  },
  {
   "cell_type": "code",
   "execution_count": null,
   "metadata": {},
   "outputs": [],
   "source": [
    "cmap = CMap\n",
    "\n",
    "fig, ax = plt.subplots(figsize=(8,1.5))\n",
    "col_map = plt.get_cmap(cmap)\n",
    "mpl.colorbar.ColorbarBase(ax, cmap=col_map, orientation = 'horizontal')\n",
    "ax.set_xlabel(\"Communication Range\",fontdict={'size':20})\n",
    "\n",
    "for label in (ax.get_xticklabels() + ax.get_yticklabels()):\n",
    "    label.set_fontsize(16)\n",
    "\n",
    "fig.set_facecolor(\"w\")\n",
    "fig.savefig(path+\"ColorMap.png\",dpi=300, bbox_inches = \"tight\")\n",
    "plt.show()\n"
   ]
  }
 ],
 "metadata": {
  "colab": {
   "collapsed_sections": [],
   "name": "readFromPickle__T00__MR.ipynb",
   "provenance": []
  },
  "kernelspec": {
   "display_name": "domip",
   "language": "python",
   "name": "python3"
  },
  "language_info": {
   "codemirror_mode": {
    "name": "ipython",
    "version": 3
   },
   "file_extension": ".py",
   "mimetype": "text/x-python",
   "name": "python",
   "nbconvert_exporter": "python",
   "pygments_lexer": "ipython3",
   "version": "3.8.12"
  },
  "vscode": {
   "interpreter": {
    "hash": "d5795e6c0ff833bb3ab4f7e7e3eae67d009f557ff55a7b0dec67adb4ab072af9"
   }
  }
 },
 "nbformat": 4,
 "nbformat_minor": 1
}
